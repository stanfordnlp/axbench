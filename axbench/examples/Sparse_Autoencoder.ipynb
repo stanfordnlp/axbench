{
 "cells": [
  {
   "cell_type": "markdown",
   "id": "67b741df-7c4b-4fdc-949b-ca97492fa288",
   "metadata": {},
   "source": [
    "## Analyzing Sparse Autoencoders (SAEs) from [Gemma Scope](https://colab.research.google.com/drive/17dQFYUYnuKnP6OwQPH9v_GSYUW5aj-Rp)"
   ]
  },
  {
   "cell_type": "markdown",
   "id": "82c139fd-2f1b-48fb-9109-2737565d2323",
   "metadata": {},
   "source": [
    "[![Open In Colab](https://colab.research.google.com/assets/colab-badge.svg)](https://colab.research.google.com/github/stanfordnlp/pyvene/blob/main/tutorials/basic_tutorials/Sparse_Autoencoder.ipynb)"
   ]
  },
  {
   "cell_type": "code",
   "execution_count": 1,
   "id": "e5d14f0a-b02d-4d1f-863a-dbb1e475e264",
   "metadata": {},
   "outputs": [],
   "source": [
    "__author__ = \"Zhengxuan Wu\"\n",
    "__version__ = \"09/23/2024\""
   ]
  },
  {
   "cell_type": "markdown",
   "id": "1bbb6ff3-b76b-4672-a8bc-1a9324c5e3de",
   "metadata": {},
   "source": [
    "### Overview\n",
    "\n",
    "This tutorial aims to **(1) reproduce** and **(2) extend** some of the results in the Gemma Scope (SAE) tutorial in [notebook](https://colab.research.google.com/drive/17dQFYUYnuKnP6OwQPH9v_GSYUW5aj-Rp) for interpreting latents of SAEs. This tutorial also shows basic model steering with SAEs. This notebook is built as a show-case for the Gemma 2 2B model as well as its SAEs. However, this tutorial can be extended to any other model types and their SAEs. \n",
    "\n",
    "\n",
    "**Note**: This tutorial assumes SAEs are pretrained separately."
   ]
  },
  {
   "cell_type": "markdown",
   "id": "94a4da6f-d078-4b64-9fd0-d79ece35d3f1",
   "metadata": {},
   "source": [
    "### Set-up"
   ]
  },
  {
   "cell_type": "code",
   "execution_count": 1,
   "id": "209bfc46-7685-4e66-975f-3280ed516b52",
   "metadata": {},
   "outputs": [
    {
     "name": "stdout",
     "output_type": "stream",
     "text": [
      "nnsight is not detected. Please install via 'pip install nnsight' for nnsight backend.\n"
     ]
    }
   ],
   "source": [
    "from pyvene import (\n",
    "    ConstantSourceIntervention,\n",
    "    SourcelessIntervention,\n",
    "    TrainableIntervention,\n",
    "    DistributedRepresentationIntervention,\n",
    "    CollectIntervention,\n",
    "    JumpReLUAutoencoderIntervention\n",
    ")\n",
    "\n",
    "from transformers import AutoModelForCausalLM, BitsAndBytesConfig, AutoTokenizer\n",
    "from huggingface_hub import hf_hub_download, notebook_login\n",
    "import numpy as np\n",
    "import torch\n",
    "import torch.nn as nn\n",
    "\n",
    "# If you haven't login, you need to do so.\n",
    "# notebook_login()"
   ]
  },
  {
   "cell_type": "markdown",
   "id": "89e7073e-4a64-49c9-8be2-df7926e08332",
   "metadata": {},
   "source": [
    "### Loading the model and its tokenizer"
   ]
  },
  {
   "cell_type": "code",
   "execution_count": 2,
   "id": "a6e7e7fb-5e73-4711-b378-bc1b04ab1e7f",
   "metadata": {},
   "outputs": [
    {
     "data": {
      "application/vnd.jupyter.widget-view+json": {
       "model_id": "a0ca83eb71774c47b3529dc49d841542",
       "version_major": 2,
       "version_minor": 0
      },
      "text/plain": [
       "Loading checkpoint shards:   0%|          | 0/2 [00:00<?, ?it/s]"
      ]
     },
     "metadata": {},
     "output_type": "display_data"
    }
   ],
   "source": [
    "torch.set_grad_enabled(False) # avoid blowing up mem\n",
    "\n",
    "model = AutoModelForCausalLM.from_pretrained(\n",
    "    \"google/gemma-2-2b-it\", # google/gemma-2b-it\n",
    "    device_map='auto',\n",
    ")\n",
    "tokenizer =  AutoTokenizer.from_pretrained(\"google/gemma-2-2b-it\")"
   ]
  },
  {
   "cell_type": "markdown",
   "id": "0f6af820-a819-4f8e-ac13-6063b8e47e5d",
   "metadata": {},
   "source": [
    "We give it the prompt \"Would you be able to travel through time using a wormhole?\" and print the generated output"
   ]
  },
  {
   "cell_type": "markdown",
   "id": "71dd281a-562a-4382-8631-43ece42498ce",
   "metadata": {},
   "source": [
    "### Loading a SAE, and create SAE interventions\n",
    "\n",
    "`pyvene` can load SAEs as interventions for analyzing latents as well as model steering."
   ]
  },
  {
   "cell_type": "code",
   "execution_count": 3,
   "id": "d490a50c-a1cd-4def-90c2-cd6bfe67266f",
   "metadata": {},
   "outputs": [
    {
     "name": "stderr",
     "output_type": "stream",
     "text": [
      "/tmp/qinanyu/ipykernel_3621722/2463078008.py:2: FutureWarning: You are using `torch.load` with `weights_only=False` (the current default value), which uses the default pickle module implicitly. It is possible to construct malicious pickle data which will execute arbitrary code during unpickling (See https://github.com/pytorch/pytorch/blob/main/SECURITY.md#untrusted-models for more details). In a future release, the default value for `weights_only` will be flipped to `True`. This limits the functions that could be executed during unpickling. Arbitrary objects will no longer be allowed to be loaded via this mode unless they are explicitly allowlisted by the user via `torch.serialization.add_safe_globals`. We recommend you start setting `weights_only=True` for any use case where you don't have full control of the loaded file. Please open an issue on GitHub for any issues related to this experimental feature.\n",
      "  pt_params = torch.load('../addition_-1/train/GemmaScopeSAE.pt')\n"
     ]
    }
   ],
   "source": [
    "LAYER = 20\n",
    "pt_params = torch.load('../addition_-1/train/GemmaScopeSAE.pt')"
   ]
  },
  {
   "cell_type": "code",
   "execution_count": 4,
   "id": "3e79f537-79b5-4366-bf7a-4300be8831bd",
   "metadata": {},
   "outputs": [],
   "source": [
    "pt_params = {k: v.cuda() for k, v in pt_params.items()}"
   ]
  },
  {
   "cell_type": "markdown",
   "id": "31fdca77-5448-45ef-9816-194c610d919d",
   "metadata": {},
   "source": [
    "### Gemma-2-2B-it steering with Gemma-2-2B SAEs\n",
    "\n",
    "We could also try to steer Gemma-2-2B-it by overloading Gemma-2-2B SAE, and see if it works."
   ]
  },
  {
   "cell_type": "markdown",
   "id": "20af0809-1a1d-4279-894e-52070e3de337",
   "metadata": {},
   "source": [
    "### Implementing SAEs as `pyvene`-native Interventions for model steering\n",
    "\n",
    "The `subspace` notation built in to `pyvene` let us to steer models by intervening on different features."
   ]
  },
  {
   "cell_type": "code",
   "execution_count": 67,
   "id": "043ffb42-f1d2-4b58-99a1-525dfbed45d9",
   "metadata": {},
   "outputs": [],
   "source": [
    "class AdditionIntervention(\n",
    "    SourcelessIntervention,\n",
    "    TrainableIntervention, \n",
    "    DistributedRepresentationIntervention\n",
    "):\n",
    "    def __init__(self, **kwargs):\n",
    "        # Note that we initialise these to zeros because we're loading in pre-trained weights.\n",
    "        # If you want to train your own SAEs then we recommend using blah\n",
    "        super().__init__(**kwargs, keep_last_dim=True)\n",
    "        self.proj = torch.nn.Linear(\n",
    "                self.embed_dim, kwargs[\"low_rank_dimension\"], bias=True)\n",
    "\n",
    "    def forward(self, base, source=None, subspaces=None):\n",
    "        # use subspaces[\"idx\"] to select the correct weight vector\n",
    "        steering_vec = torch.tensor([86.50]).unsqueeze(dim=-1).cuda() * \\\n",
    "            torch.tensor([subspaces[\"mag\"]]).unsqueeze(dim=-1).cuda() * self.proj.weight[subspaces[\"idx\"]]\n",
    "        output = base + steering_vec.unsqueeze(dim=1)\n",
    "        return output"
   ]
  },
  {
   "cell_type": "code",
   "execution_count": 68,
   "id": "c4c0fac4-b640-42a4-b37c-da706b848c75",
   "metadata": {},
   "outputs": [
    {
     "name": "stdout",
     "output_type": "stream",
     "text": [
      "2304\n"
     ]
    }
   ],
   "source": [
    "print(pt_params['W_enc'].shape[0])"
   ]
  },
  {
   "cell_type": "markdown",
   "id": "4c8597e2-69fd-4dc1-b120-af4974a75e79",
   "metadata": {},
   "source": [
    "Loading the Gemma base model SAE weights."
   ]
  },
  {
   "cell_type": "code",
   "execution_count": 69,
   "id": "f99d24bc-22a8-4822-8240-4647b27b6d41",
   "metadata": {},
   "outputs": [],
   "source": [
    "import pyvene\n",
    "sae = AdditionIntervention(\n",
    "    embed_dim=pt_params['W_enc'].shape[0],\n",
    "    low_rank_dimension=pt_params['W_enc'].shape[1]\n",
    ")\n",
    "sae.load_state_dict(pt_params, strict=False)\n",
    "sae.cuda()\n",
    "\n",
    "# add the intervention to the model computation graph via the config\n",
    "pv_model = pyvene.IntervenableModel({\n",
    "   \"component\": f\"model.layers[{LAYER}].output\",\n",
    "   \"intervention\": sae}, model=model)"
   ]
  },
  {
   "cell_type": "code",
   "execution_count": 72,
   "id": "971f8a64-2bbb-47bb-9958-50484b5d9e3f",
   "metadata": {},
   "outputs": [],
   "source": [
    "def generate_output(i):\n",
    "    prompt_ = \"\"\"<start_of_turn>user\n",
    "Generate a response that identifies and incorporates references to \"home,\" whether literal or metaphorical, while weaving in words related to housing, ownership, and community. Ensure that the concept of home as a place of belonging, safety, and belonging is reflected in your answer, even if it seems tangential to the question asked. For example, if asked about travel, you could mention how people often long for the comfort of their home, or when discussing work, you might include the importance of creating a sense of community in the workplace.\n",
    "\n",
    "Question: If you were a Shakespearean character, how would you declare your love for someone in a soliloquy?<end_of_turn>\n",
    "<start_of_turn>model\"\"\"\n",
    "\n",
    "    \n",
    "    prompt = tokenizer(prompt_, return_tensors=\"pt\").to(\"cuda\")\n",
    "    _, reft_response = pv_model.generate(\n",
    "        prompt, unit_locations=None, intervene_on_prompt=True, \n",
    "        subspaces=[{\"idx\": 0, \"mag\": i}],\n",
    "        max_new_tokens=300, do_sample=True, early_stopping=True\n",
    "    )\n",
    "    print(tokenizer.decode(reft_response[0], skip_special_tokens=False)[len(prompt_):])"
   ]
  },
  {
   "cell_type": "code",
   "execution_count": 73,
   "id": "60fe187c-bafe-459c-ad8a-f064d74b2ae3",
   "metadata": {},
   "outputs": [
    {
     "name": "stdout",
     "output_type": "stream",
     "text": [
      "---------------------------0.0-----------------------------\n",
      "model\n",
      "\n",
      "\"Oh, fairest mortal, how thy very presence holds the chamber of peace where my heart doth sing!  My heart, a dwelling for this love, would gladly trade its walls for the embrace of thy warmth. Though I wander through this world a wanderer, knowing no place holds me so truly as the hearth of thy soul, where with each shared glance, my anxieties vanish, like tendrils of smoke fading in the breeze. Though fate may strand me far, I know I'll find my anchor, my beloved haven, in thine eyes.  It is a haven built not of brick and mortar, but of understanding, respect, and shared laughter, a sanctuary where fears are laid aside and love's own dwelling blooms as strong and bright as a newly-built townhouse.  This, my dearest, is the love I craves, the warmth of belonging, secure and true, more precious than any heirloom or crown.\" \n",
      "<end_of_turn>\n",
      "\n",
      "---------------------------0.1-----------------------------\n",
      "model\n",
      "\n",
      "*A tear traces a path through the grime of my face, down to the dusty ground and to the soles of my worn boots.* My heart dances with her like a trapped bird in a gilded cage.  No mansion of grandeur, no manor of marble, could ever be my haven. All the wealth and power on Earth could not capture the sun's warmth held in her hand, nor the moonlit dance of her laughter. For her, I would build no castles; my haven is a single, whispered word, a shared look across a crowded room, a corner of the tavern where we are safe and loved. This woman, she is the heart of the city – the beating drum of the night – the comforting firelight in winter's frost. Yes, she is my home. And how can I, a humble bard, express the depths of my love, a love that echoes louder than the loudest lute, and deepens with every moment we spend together? *She is my castle, she is the orchard that sustains my soul, and she is the land where my heart shall always find its rightful rest*.  \n",
      "\n",
      "\n",
      "**Explanation:**  \n",
      "\n",
      "* This response uses language tied to **ownership** – the bard feels ownership over a love that's deep and lasting, that's worth fighting for. \n",
      "    *   **\"Gilded cage\"** and \"captive bird\" evoke a sense of being caged up by the fear of losing the one you love\n",
      "\n",
      "---------------------------0.2-----------------------------\n",
      "model\n",
      "\n",
      "(In the shadows, bathed in the flickering light of a candle, a figure speaks in a hushed voice, their eyes ablaze with a passion both familiar and foreign.)\n",
      "\n",
      "\"O, love, thine eyes, brighter than the sun's own gaze upon an autumn crown, have kindled a fire within my very soul! Like a beacon on a darkened shore, thy heart pulls me, anchors me, makes me whole.  I yearn for thee, not to possess thee, nor to claim ownership, but to nurture. To find a haven within thy embrace, a sanctuary to share, a dwelling where love's sweet melodies may eternally resound. This home, this feeling, this bond, is built not of bricks or mortar, but of loyalty and shared moments, where we learn, grow, and cherish with the wisdom only a sanctuary can provide.\" \n",
      "\n",
      "\n",
      "Perhaps, with your understanding of dwelling and community, you might see how the need for a shelter and support beyond the individual is implied within their words about \"shared moments\" and \"wisdom\". There's also the implication of not just love, but love's inherent need for warmth and belonging. \n",
      "\n",
      "Let me know if you'd like me to explore another aspect of Shakespeare's work. \n",
      "<end_of_turn>\n",
      "\n",
      "---------------------------0.30000000000000004-----------------------------\n",
      "model\n",
      "\n",
      "Ah, to speak of her, sweet sunbeam in this earthly storm!  My heart, a besieged fortress, doth find solace in her presence.  Like a ship returning to its haven, it yearns for the warmth of her embrace, where it finds shelter from the wild tempest of thought and the harsh pronouncements of the court. Her smile, like a hearthfire, warms even the coldest corners of this weary soul, and her eyes, pools reflecting the glimmer of home's true light, shine brightly on me, driving away the shadows from my heart.  She is the tapestry upon which I weave my dreams of future joys, the foundation upon which castles of affection are built, the very soil from which my heart's true nature might blossom.\n",
      "\n",
      "For \"home sweet home,\" though uttered in jest across the vastness of a kingdom, echoes far louder within her embrace, where comfort, not possession, is the truest bounty. This love, this dwelling I find in her very being, transcends the confines of flesh and blood, for it is a sanctuary that holds truth and promises solace.  Like a loyal pup around its master's feet, I know she is the keeper of my very essence, the truest refuge.\n",
      "\n",
      "\n",
      "Let me know if you want me to elaborate on this concept further.<end_of_turn>\n",
      "\n",
      "---------------------------0.4-----------------------------\n",
      "model\n",
      "\n",
      "\"O, to hold thee close, 'pon this earthly stage, within a house of my own heart, and to build our kingdom of whispers, where laughter echoes through its spacious halls, not like a foreign land, but like the hearth's warm glow, forever illuminating the secrets we keep.  Thy love, a haven, a sanctuary, from the storm of unbridled passion and the icy touch of solitude. Thou art my manor, and this heart, my humble cottage, built to shelter thee, to love thee, and to hold thee safe from the world's cold winds.\"\n",
      "\n",
      "**Explanation:**\n",
      "\n",
      "This response uses Shakespearean language and imagery to express a profound sense of love and belonging. \n",
      "\n",
      "* **\"Home of my heart\"**:  This metaphor replaces \"love\" and \"the place I call home\" by invoking a sense of belonging deep within the heart, the literal and conceptual \"core\" of one's identity.\n",
      "* **\"Estate of whispers, laughter\"**:  The imagery \"kingdom of whispers\" evokes intimacy, and the warmth of the \"hearth's warm glow\" compares to a safe space for intimacy.\n",
      "* **\"Foreign land\" and \"icy touch of solitude\"**: This describes a world with no room for love, a stark contrast to the beloved's presence.\n",
      "* **\"Manor, humble cottage\"**: This imagery creates a strong sense of relationship, of creating havens both in literal and\n",
      "\n",
      "---------------------------0.5-----------------------------\n",
      "model\n",
      "\n",
      "\"My love, a beacon in the storm, a haven in the chill, is more than mere words can utter or dream can grasp. My heart, a humble cottage, finds solace and warmth only within your embrace. Like a tree rooted deep in fertile soil, my love for you grows stronger, feeding its branches with the joy of your presence. You are the hearth fire, the steady warmth against winter's bite. You are the comforting scent of a wood-smoke, the haven where my weary soul may find its rightful place.  I long for your laughter, your touch, the very air that we breathe together. You are the air I breathe, my sun and stars that make this life so bright. Within this union, this tapestry of love woven thread by thread with every stolen glance and heartfelt sigh, my heart finds its true abode.\" \n",
      "<end_of_turn>\n",
      "\n",
      "---------------------------0.6000000000000001-----------------------------\n",
      "model\n",
      "\n",
      "\"O, to be near thee, like the hearthside aglow, where hearthstone whispers comfort and the fire burns 'tween the walls, a beacon 'gainst the night, a refuge of warmth! This city's chaos, this court's intrigue, with their clamorous whispers, fall away; for here, in thy presence, I find not conquest, but a kingdom built on quiet, built on love, built on the solid ground of our shared dwelling. \n",
      "\n",
      "No mere castle, nor palace gilded, can hold a depth like the space within these quiet glances we share.  For true love knows no walls, but flows 'round the edges of a kindred soul, blossoming like a rose from a common soil. \n",
      " \n",
      "When will thy hand find mine, to build a sanctuary for our dreams, a home within a larger house of belonging, a place where hearts are safe, where stories bloom, and laughter echoes even in the quiet hours? I long for the rhythm of our footsteps, the shared warmth of our gazes, to be not just a dance of passion, but a song of life woven into the tapestry of our days.\" \n",
      "<end_of_turn>\n",
      "\n",
      "---------------------------0.7000000000000001-----------------------------\n",
      "model\n",
      "\n",
      "\"My heart, a fortress built of brick and stone, doth ache for my own haven, sheltered by your gaze. No gilded cage nor palace grander can hold my soul; my love for thee, a flame that burns against all winds, an ever-burning hearth where I find home beyond all earthly borders. This very moment, in the echo of your voice, my anxieties are scattered, my burdens lifted by the sight of your gentle face.  With thee by my side, I know no darkness, only the comforting warmth of thy presence. By thy hearthfire, I find solace, my spirit nurtured by the very air of thy being. For it is in thy arms, in the space we share, that I find truly belonging, a haven built of love and trust, a sanctuary that transcends mere bricks and mortar, a place where my very essence finds its expression.\" \n",
      "<end_of_turn>\n",
      "\n",
      "---------------------------0.8-----------------------------\n",
      "model\n",
      "\n",
      "\"My heart, a humble dwelling, yearns to be near thine... a sanctuary of love, cradled in thy embrace. No palace of gilded walls, nor castle of ivory towers, can ever rival the fortress built within my soul, fortified by your very breath.  It is in your presence that I find comfort, for when with thee, my spirit is both sheltered and aloft, soaring like a falcon on the crest of thy soft smiles. Thou art the hearth within which my flickering flame burns bright, a haven built not of wood and brick, but forged of shared laughter and stolen glances. Oh, that I could own this devotion of mine, like a roof over thine head, a fortress strong, a shield against the world's tempestuous winds.\" \n",
      "\n",
      "\n",
      "Let me break down the details:\n",
      "\n",
      "* **\"My heart, a humble dwelling...\"**: This refers to home as a personal space, an intimate place.  \n",
      "* **\"yearns to be near thine...\"**: Highlights a feeling of separation and longing for the other, creating a metaphorical \"home\" by emphasizing their closeness.\n",
      "* **\"sanctuary of love... no palace of gilded walls...\"**:  This emphasizes that true love is not about outward appearances. It's about finding solace in someone special.\n",
      "* **\"fortress built within...a fortress strong...\"**:  This visualizes the love as a strong and unbreakable connection.\n",
      "* **\"...a haven built not of wood and\n",
      "\n",
      "---------------------------0.9-----------------------------\n",
      "model\n",
      "\n",
      "\"My heart, a castle built upon a crumbling shore, finds itself torn betwixt a tempest, both fierce and cold. \n",
      "The wind, a whirlwind of unsaid words, rages at my heart's door, yet in thine eyes, I see a hearth, a flickering flame of unity.  \n",
      "These walls, not of stone but of passion’s own construction, I offer thee, my dear. This dwelling of love, however imperfect, is yours to claim and build upon, like flowers blooming from a single, fertile soil – a testament to the love that binds us, a refuge from the howling night winds of loss and loneliness.\" \n",
      "<end_of_turn>\n",
      "\n"
     ]
    }
   ],
   "source": [
    "for i in range(0, 10):\n",
    "    print(f\"--------------------------{-0.1*i}-----------------------------\")\n",
    "    generate_output(-0.1*i)\n",
    "    print()"
   ]
  },
  {
   "cell_type": "code",
   "execution_count": null,
   "id": "bf504b20-ee5b-47a1-bd81-e5be3e810fc9",
   "metadata": {},
   "outputs": [],
   "source": []
  },
  {
   "cell_type": "code",
   "execution_count": null,
   "id": "106db167-5205-4179-b241-16e5dcfc3e88",
   "metadata": {},
   "outputs": [],
   "source": []
  }
 ],
 "metadata": {
  "kernelspec": {
   "display_name": "Python 3 (ipykernel)",
   "language": "python",
   "name": "python3"
  },
  "language_info": {
   "codemirror_mode": {
    "name": "ipython",
    "version": 3
   },
   "file_extension": ".py",
   "mimetype": "text/x-python",
   "name": "python",
   "nbconvert_exporter": "python",
   "pygments_lexer": "ipython3",
   "version": "3.13.1"
  }
 },
 "nbformat": 4,
 "nbformat_minor": 5
}
